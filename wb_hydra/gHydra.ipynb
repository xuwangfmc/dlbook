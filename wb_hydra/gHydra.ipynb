{
  "nbformat": 4,
  "nbformat_minor": 0,
  "metadata": {
    "colab": {
      "name": "Hydra.ipynb",
      "provenance": [],
      "collapsed_sections": [],
      "include_colab_link": true
    },
    "kernelspec": {
      "name": "python3",
      "display_name": "Python 3"
    },
    "language_info": {
      "name": "python"
    }
  },
  "cells": [
    {
      "cell_type": "markdown",
      "metadata": {
        "id": "view-in-github",
        "colab_type": "text"
      },
      "source": [
        "<a href=\"https://colab.research.google.com/github/xuwangfmc/dlbook/blob/main/wb_hydra/gHydra.ipynb\" target=\"_parent\"><img src=\"https://colab.research.google.com/assets/colab-badge.svg\" alt=\"Open In Colab\"/></a>"
      ]
    },
    {
      "cell_type": "markdown",
      "source": [
        "# Hydra\n",
        "\n",
        "Hydra是Facebook AI 开发的开源 Python 框架，可简化研究和其他复杂应用程序的开发。这个新框架提供了一种强大的能力，可以从命令行和配置文件中组合和覆盖配置。作为PyTorch 生态系统的一部分，Hydra 帮助 PyTorch 研究人员和开发人员更轻松地管理复杂的机器学习项目。Hydra 是通用的，可以应用于机器学习以外的领域。Hydra 这个名字来自于它能够运行多个类似工作的能力——就像一个有多个头的 Hydra。\n",
        "\n",
        "\n",
        "![](https://imgur.com/lFLsaiu.png)\n"
      ],
      "metadata": {
        "id": "5X3SaW1J6PCk"
      }
    },
    {
      "cell_type": "markdown",
      "source": [
        "主要特点：\n",
        "可从多个来源组合的分层配置\n",
        "\n",
        "可以从命令行指定或覆盖配置\n",
        "\n",
        "动态命令行选项卡补全\n",
        "\n",
        "在本地运行您的应用程序或启动它以远程运行\n",
        "\n",
        "使用单个命令运行具有不同参数的多个作业"
      ],
      "metadata": {
        "id": "DWtBFoqQy-3G"
      }
    },
    {
      "cell_type": "markdown",
      "source": [
        "注：本教程所有代码需要在本地运行"
      ],
      "metadata": {
        "id": "sYXJJODazFYX"
      }
    },
    {
      "cell_type": "markdown",
      "source": [
        "安装 hydra库\n",
        "\n",
        "pip install hydra-core --upgrade"
      ],
      "metadata": {
        "id": "XHxfAqDDSNsH"
      }
    },
    {
      "cell_type": "markdown",
      "source": [
        "##1.通过命令行添加设置\n",
        "\n",
        "创建my_app.py文件\n",
        "\n",
        "\n",
        "\n",
        "```python\n",
        "from omegaconf import DictConfig, OmegaConf\n",
        "import hydra\n",
        "\n",
        "@hydra.main(config_path=None)\n",
        "def my_app(cfg: DictConfig) -> None:\n",
        "    print(OmegaConf.to_yaml(cfg))\n",
        "\n",
        "if __name__ == \"__main__\":\n",
        "    my_app()\n",
        "```\n",
        "\n"
      ],
      "metadata": {
        "id": "NLcYco_RSUVy"
      }
    },
    {
      "cell_type": "markdown",
      "source": [
        "命令行中输入\n",
        "\n",
        "\n",
        "```\n",
        "python my_app.py +db.driver=mysql +db.user=omry +db.password=secret\n",
        "```\n",
        "\n",
        "可以观察到控制台打印以下输出：\n",
        "\n",
        "\n",
        "```yaml\n",
        "db:\n",
        "  driver: mysql\n",
        "  user: omry\n",
        "  password: secret\n",
        "```\n",
        "\n",
        "\n"
      ],
      "metadata": {
        "id": "2suFzObzScWn"
      }
    },
    {
      "cell_type": "markdown",
      "source": [
        "##2.创建YAML文件进行参数配置\n",
        "\n",
        "\n",
        "创建config.yaml文件，并添加以下内容：\n",
        "\n",
        "```yaml\n",
        "db: \n",
        "  driver: mysql\n",
        "  user: omry\n",
        "  password: secret\n",
        "```\n",
        "\n",
        "\n"
      ],
      "metadata": {
        "id": "d_VDyAbz6ysp"
      }
    },
    {
      "cell_type": "markdown",
      "source": [
        "改写上面1.的my_app.py文件的部分字段，如下所示：\n",
        "\n",
        "\n",
        "\n",
        "```python\n",
        "@hydra.main(config_path=\".\", config_name=\"config\")\n",
        "def my_app(cfg):\n",
        "    print(OmegaConf.to_yaml(cfg))\n",
        "```\n",
        "\n"
      ],
      "metadata": {
        "id": "MGYiogEVS0aX"
      }
    },
    {
      "cell_type": "markdown",
      "source": [
        "命令行中输入\n",
        "\n",
        "\n",
        "```\n",
        "python my_app.py db.user=root db.password=1234\n",
        "```\n",
        "控制台会打印命令行参数覆盖后的结果。\n",
        "\n",
        "用+符号可以添加设置的内容。\n",
        "\n",
        "```\n",
        "python my_app.py +db.timeout=5\n",
        "```\n",
        "\n",
        "\n",
        "\n",
        "\n"
      ],
      "metadata": {
        "id": "I8hr2eNzTANb"
      }
    },
    {
      "cell_type": "markdown",
      "source": [
        "##3.将YAML文件分组并调用\n",
        "\n",
        "\n",
        "\n",
        "按照以下结构创建文conf与db目录, mysql.yaml和postresql.yaml两个文件。\n",
        "\n",
        "\n",
        "```\n",
        "├─ conf\n",
        "│  └─ db\n",
        "│      ├─ mysql.yaml\n",
        "│      └─ postgresql.yaml\n",
        "└── my_app.py\n",
        "\n",
        "```\n",
        "\n",
        "mysql.yaml文件添加以下内容\n",
        "\n",
        "\n",
        "```yaml\n",
        "driver: mysql\n",
        "user: omry\n",
        "password: secret\n",
        "```\n",
        "\n",
        "postgresql.yaml文件添加以下内容\n",
        "\n",
        "\n",
        "```yaml\n",
        "driver: postgresql\n",
        "user: postgres_user\n",
        "password: drowssap\n",
        "timeout: 10\n",
        "```\n",
        "\n",
        "将2.中的my_app.py文件的部分内容修改如下：\n",
        "\n",
        "\n",
        "```python\n",
        "@hydra.main(config_path=\"conf\")\n",
        "def my_app(cfg: DictConfig) -> None:\n",
        "    print(OmegaConf.to_yaml(cfg))\n",
        "```\n",
        "\n",
        "\n",
        "命令行输入以下指令调用postgresql.yaml文件\n",
        "\n",
        "\n",
        "```\n",
        "python my_app.py +db=postgresql\n",
        "```\n",
        "\n",
        "此处仍然可以通过命令行设置覆盖原来的参数，如：\n",
        "\n",
        "\n",
        "```\n",
        "python my_app.py +db=postgresql db.timeout=20\n",
        "```\n",
        "\n",
        "\n",
        "\n",
        "\n",
        "\n"
      ],
      "metadata": {
        "id": "4sD0h5Ra9cdw"
      }
    },
    {
      "cell_type": "markdown",
      "source": [
        "##4.设置config.yaml文件的默认调用情况\n",
        "\n",
        "在config.yaml文件中运用defaults关键字可以设置默认调用的内容。在conf目录下创建config.yaml文件并添加以下内容：\n",
        "\n",
        "```yaml\n",
        "defaults:\n",
        "  - db: mysql\n",
        "\n",
        "```\n",
        "\n",
        "再将3.中的my_app.py文件的部分内容修改如下：\n",
        "\n",
        "\n",
        "```python\n",
        "@hydra.main(config_path=\"conf\", config_name=\"config\")\n",
        "def my_app(cfg: DictConfig) -> None:\n",
        "    print(OmegaConf.to_yaml(cfg))\n",
        "```\n",
        "此时运行my_app.py文件会默认调用mysql.yaml的内容。\n",
        "\n",
        "\n",
        "```\n",
        "python my_app.py\n",
        "```\n",
        "此时仍可通过命令行调用其它YAML文件和覆盖其中的单个值：\n",
        "\n",
        "\n",
        "```\n",
        "python my_app.py db=postgresql db.timeout=20\n",
        "```\n",
        "如果config.yaml中与mysql.yaml文件有重复的关键字定义，可以设置_self_关键字进行管理。若想调用config.yaml文件的user值，按如下设置：\n",
        "\n",
        "\n",
        "```yaml\n",
        "defaults:\n",
        "  - db: mysql\n",
        "  - _self_\n",
        "\n",
        "db:\n",
        "  user: root\n",
        "```\n",
        "若想调用mysql.yaml文件中的user值，按如下设置：\n",
        "```yaml\n",
        "defaults:\n",
        "  - _self_\n",
        "  - db: mysql\n",
        "\n",
        "db:\n",
        "  user: root\n",
        "```\n",
        "\n",
        "\n",
        "\n",
        "也可通过_self_值设置调用config.yaml还是mysql.yaml文件中的值。"
      ],
      "metadata": {
        "id": "s50QPESc-0rc"
      }
    },
    {
      "cell_type": "markdown",
      "source": [
        "##5.组合多个YAML文件进行设置\n",
        "\n",
        "通过设置config.yaml文件的内容，可以调用组合的YAML文件进行设置。\n",
        "\n",
        "下载教程中的example文件夹，具体目录布局如下：\n",
        "\n",
        "\n",
        "```\n",
        "├── conf\n",
        "│   ├── config.yaml\n",
        "│   ├── db\n",
        "│   │   ├── mysql.yaml\n",
        "│   │   └── postgresql.yaml\n",
        "│   ├── schema\n",
        "│   │   ├── school.yaml\n",
        "│   │   ├── support.yaml\n",
        "│   │   └── warehouse.yaml\n",
        "│   └── ui\n",
        "│       ├── full.yaml\n",
        "│       └── view.yaml\n",
        "└── my_app.py\n",
        "```\n",
        "其中config.yaml文件的设置如下：\n",
        "\n",
        "\n",
        "```yaml\n",
        "defaults:\n",
        "  - db: mysql\n",
        "  - ui: full\n",
        "  - schema: school\n",
        "```\n",
        "命令行中运行my_app.py文件可以打印设置内容。\n",
        "\n",
        "\n",
        "```\n",
        "python my_app.py\n",
        "```"
      ],
      "metadata": {
        "id": "ejbxF5k6AcQV"
      }
    },
    {
      "cell_type": "markdown",
      "source": [
        "##6.多运行模式\n",
        "\n",
        "在5.的路径下，使用--multirun(-m)标志并传递一个逗号分隔的列表，指定要扫描的每个维度的值。\n",
        "\n",
        "```\n",
        "python my_app.py -m db=mysql,postgresql schema=warehouse,support,school\n",
        "```\n",
        "该命令会使用所有参数的组合运行my_app.py文件。\n"
      ],
      "metadata": {
        "id": "dUCCWfgCAoGV"
      }
    }
  ]
}